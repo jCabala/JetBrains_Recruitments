{
  "nbformat": 4,
  "nbformat_minor": 0,
  "metadata": {
    "colab": {
      "provenance": []
    },
    "kernelspec": {
      "name": "python3",
      "display_name": "Python 3"
    },
    "language_info": {
      "name": "python"
    }
  },
  "cells": [
    {
      "cell_type": "code",
      "source": [
        "!pip install rouge_score"
      ],
      "metadata": {
        "colab": {
          "base_uri": "https://localhost:8080/"
        },
        "id": "i1H2JXao5oX1",
        "outputId": "0f265ce4-1123-497f-a065-48b32d74cf24"
      },
      "execution_count": null,
      "outputs": [
        {
          "output_type": "stream",
          "name": "stdout",
          "text": [
            "Collecting rouge_score\n",
            "  Downloading rouge_score-0.1.2.tar.gz (17 kB)\n",
            "  Preparing metadata (setup.py) ... \u001b[?25l\u001b[?25hdone\n",
            "Requirement already satisfied: absl-py in /usr/local/lib/python3.10/dist-packages (from rouge_score) (1.4.0)\n",
            "Requirement already satisfied: nltk in /usr/local/lib/python3.10/dist-packages (from rouge_score) (3.8.1)\n",
            "Requirement already satisfied: numpy in /usr/local/lib/python3.10/dist-packages (from rouge_score) (1.26.4)\n",
            "Requirement already satisfied: six>=1.14.0 in /usr/local/lib/python3.10/dist-packages (from rouge_score) (1.16.0)\n",
            "Requirement already satisfied: click in /usr/local/lib/python3.10/dist-packages (from nltk->rouge_score) (8.1.7)\n",
            "Requirement already satisfied: joblib in /usr/local/lib/python3.10/dist-packages (from nltk->rouge_score) (1.4.2)\n",
            "Requirement already satisfied: regex>=2021.8.3 in /usr/local/lib/python3.10/dist-packages (from nltk->rouge_score) (2024.9.11)\n",
            "Requirement already satisfied: tqdm in /usr/local/lib/python3.10/dist-packages (from nltk->rouge_score) (4.66.6)\n",
            "Building wheels for collected packages: rouge_score\n",
            "  Building wheel for rouge_score (setup.py) ... \u001b[?25l\u001b[?25hdone\n",
            "  Created wheel for rouge_score: filename=rouge_score-0.1.2-py3-none-any.whl size=24935 sha256=bdcabc27934d07b9d14a6c0cb2bd35e61c0cf95fd8315215533990cc1704faa7\n",
            "  Stored in directory: /root/.cache/pip/wheels/5f/dd/89/461065a73be61a532ff8599a28e9beef17985c9e9c31e541b4\n",
            "Successfully built rouge_score\n",
            "Installing collected packages: rouge_score\n",
            "Successfully installed rouge_score-0.1.2\n"
          ]
        }
      ]
    },
    {
      "cell_type": "code",
      "source": [
        "!pip install sacrebleu"
      ],
      "metadata": {
        "colab": {
          "base_uri": "https://localhost:8080/"
        },
        "id": "-B5W0eLW5IwZ",
        "outputId": "13d03821-288d-44d5-ca5b-a2e558571e23"
      },
      "execution_count": null,
      "outputs": [
        {
          "output_type": "stream",
          "name": "stdout",
          "text": [
            "Collecting sacrebleu\n",
            "  Downloading sacrebleu-2.4.3-py3-none-any.whl.metadata (51 kB)\n",
            "\u001b[?25l     \u001b[90m━━━━━━━━━━━━━━━━━━━━━━━━━━━━━━━━━━━━━━━━\u001b[0m \u001b[32m0.0/51.8 kB\u001b[0m \u001b[31m?\u001b[0m eta \u001b[36m-:--:--\u001b[0m\r\u001b[2K     \u001b[90m━━━━━━━━━━━━━━━━━━━━━━━━━━━━━━━━━━━━━━━━\u001b[0m \u001b[32m51.8/51.8 kB\u001b[0m \u001b[31m3.0 MB/s\u001b[0m eta \u001b[36m0:00:00\u001b[0m\n",
            "\u001b[?25hCollecting portalocker (from sacrebleu)\n",
            "  Downloading portalocker-2.10.1-py3-none-any.whl.metadata (8.5 kB)\n",
            "Requirement already satisfied: regex in /usr/local/lib/python3.10/dist-packages (from sacrebleu) (2024.9.11)\n",
            "Requirement already satisfied: tabulate>=0.8.9 in /usr/local/lib/python3.10/dist-packages (from sacrebleu) (0.9.0)\n",
            "Requirement already satisfied: numpy>=1.17 in /usr/local/lib/python3.10/dist-packages (from sacrebleu) (1.26.4)\n",
            "Collecting colorama (from sacrebleu)\n",
            "  Downloading colorama-0.4.6-py2.py3-none-any.whl.metadata (17 kB)\n",
            "Requirement already satisfied: lxml in /usr/local/lib/python3.10/dist-packages (from sacrebleu) (5.3.0)\n",
            "Downloading sacrebleu-2.4.3-py3-none-any.whl (103 kB)\n",
            "\u001b[2K   \u001b[90m━━━━━━━━━━━━━━━━━━━━━━━━━━━━━━━━━━━━━━━━\u001b[0m \u001b[32m104.0/104.0 kB\u001b[0m \u001b[31m6.4 MB/s\u001b[0m eta \u001b[36m0:00:00\u001b[0m\n",
            "\u001b[?25hDownloading colorama-0.4.6-py2.py3-none-any.whl (25 kB)\n",
            "Downloading portalocker-2.10.1-py3-none-any.whl (18 kB)\n",
            "Installing collected packages: portalocker, colorama, sacrebleu\n",
            "Successfully installed colorama-0.4.6 portalocker-2.10.1 sacrebleu-2.4.3\n"
          ]
        }
      ]
    },
    {
      "cell_type": "code",
      "source": [
        "!pip install evaluate"
      ],
      "metadata": {
        "colab": {
          "base_uri": "https://localhost:8080/"
        },
        "id": "8Ca5YG_14193",
        "outputId": "5907664b-4847-4553-a0d9-a286fe8ba4cf"
      },
      "execution_count": null,
      "outputs": [
        {
          "output_type": "stream",
          "name": "stdout",
          "text": [
            "Collecting evaluate\n",
            "  Downloading evaluate-0.4.3-py3-none-any.whl.metadata (9.2 kB)\n",
            "Collecting datasets>=2.0.0 (from evaluate)\n",
            "  Downloading datasets-3.1.0-py3-none-any.whl.metadata (20 kB)\n",
            "Requirement already satisfied: numpy>=1.17 in /usr/local/lib/python3.10/dist-packages (from evaluate) (1.26.4)\n",
            "Collecting dill (from evaluate)\n",
            "  Downloading dill-0.3.9-py3-none-any.whl.metadata (10 kB)\n",
            "Requirement already satisfied: pandas in /usr/local/lib/python3.10/dist-packages (from evaluate) (2.2.2)\n",
            "Requirement already satisfied: requests>=2.19.0 in /usr/local/lib/python3.10/dist-packages (from evaluate) (2.32.3)\n",
            "Requirement already satisfied: tqdm>=4.62.1 in /usr/local/lib/python3.10/dist-packages (from evaluate) (4.66.6)\n",
            "Collecting xxhash (from evaluate)\n",
            "  Downloading xxhash-3.5.0-cp310-cp310-manylinux_2_17_x86_64.manylinux2014_x86_64.whl.metadata (12 kB)\n",
            "Collecting multiprocess (from evaluate)\n",
            "  Downloading multiprocess-0.70.17-py310-none-any.whl.metadata (7.2 kB)\n",
            "Requirement already satisfied: fsspec>=2021.05.0 in /usr/local/lib/python3.10/dist-packages (from fsspec[http]>=2021.05.0->evaluate) (2024.10.0)\n",
            "Requirement already satisfied: huggingface-hub>=0.7.0 in /usr/local/lib/python3.10/dist-packages (from evaluate) (0.24.7)\n",
            "Requirement already satisfied: packaging in /usr/local/lib/python3.10/dist-packages (from evaluate) (24.1)\n",
            "Requirement already satisfied: filelock in /usr/local/lib/python3.10/dist-packages (from datasets>=2.0.0->evaluate) (3.16.1)\n",
            "Requirement already satisfied: pyarrow>=15.0.0 in /usr/local/lib/python3.10/dist-packages (from datasets>=2.0.0->evaluate) (17.0.0)\n",
            "Collecting dill (from evaluate)\n",
            "  Downloading dill-0.3.8-py3-none-any.whl.metadata (10 kB)\n",
            "Collecting multiprocess (from evaluate)\n",
            "  Downloading multiprocess-0.70.16-py310-none-any.whl.metadata (7.2 kB)\n",
            "Collecting fsspec>=2021.05.0 (from fsspec[http]>=2021.05.0->evaluate)\n",
            "  Downloading fsspec-2024.9.0-py3-none-any.whl.metadata (11 kB)\n",
            "Requirement already satisfied: aiohttp in /usr/local/lib/python3.10/dist-packages (from datasets>=2.0.0->evaluate) (3.10.10)\n",
            "Requirement already satisfied: pyyaml>=5.1 in /usr/local/lib/python3.10/dist-packages (from datasets>=2.0.0->evaluate) (6.0.2)\n",
            "Requirement already satisfied: typing-extensions>=3.7.4.3 in /usr/local/lib/python3.10/dist-packages (from huggingface-hub>=0.7.0->evaluate) (4.12.2)\n",
            "Requirement already satisfied: charset-normalizer<4,>=2 in /usr/local/lib/python3.10/dist-packages (from requests>=2.19.0->evaluate) (3.4.0)\n",
            "Requirement already satisfied: idna<4,>=2.5 in /usr/local/lib/python3.10/dist-packages (from requests>=2.19.0->evaluate) (3.10)\n",
            "Requirement already satisfied: urllib3<3,>=1.21.1 in /usr/local/lib/python3.10/dist-packages (from requests>=2.19.0->evaluate) (2.2.3)\n",
            "Requirement already satisfied: certifi>=2017.4.17 in /usr/local/lib/python3.10/dist-packages (from requests>=2.19.0->evaluate) (2024.8.30)\n",
            "Requirement already satisfied: python-dateutil>=2.8.2 in /usr/local/lib/python3.10/dist-packages (from pandas->evaluate) (2.8.2)\n",
            "Requirement already satisfied: pytz>=2020.1 in /usr/local/lib/python3.10/dist-packages (from pandas->evaluate) (2024.2)\n",
            "Requirement already satisfied: tzdata>=2022.7 in /usr/local/lib/python3.10/dist-packages (from pandas->evaluate) (2024.2)\n",
            "Requirement already satisfied: aiohappyeyeballs>=2.3.0 in /usr/local/lib/python3.10/dist-packages (from aiohttp->datasets>=2.0.0->evaluate) (2.4.3)\n",
            "Requirement already satisfied: aiosignal>=1.1.2 in /usr/local/lib/python3.10/dist-packages (from aiohttp->datasets>=2.0.0->evaluate) (1.3.1)\n",
            "Requirement already satisfied: attrs>=17.3.0 in /usr/local/lib/python3.10/dist-packages (from aiohttp->datasets>=2.0.0->evaluate) (24.2.0)\n",
            "Requirement already satisfied: frozenlist>=1.1.1 in /usr/local/lib/python3.10/dist-packages (from aiohttp->datasets>=2.0.0->evaluate) (1.5.0)\n",
            "Requirement already satisfied: multidict<7.0,>=4.5 in /usr/local/lib/python3.10/dist-packages (from aiohttp->datasets>=2.0.0->evaluate) (6.1.0)\n",
            "Requirement already satisfied: yarl<2.0,>=1.12.0 in /usr/local/lib/python3.10/dist-packages (from aiohttp->datasets>=2.0.0->evaluate) (1.17.0)\n",
            "Requirement already satisfied: async-timeout<5.0,>=4.0 in /usr/local/lib/python3.10/dist-packages (from aiohttp->datasets>=2.0.0->evaluate) (4.0.3)\n",
            "Requirement already satisfied: six>=1.5 in /usr/local/lib/python3.10/dist-packages (from python-dateutil>=2.8.2->pandas->evaluate) (1.16.0)\n",
            "Requirement already satisfied: propcache>=0.2.0 in /usr/local/lib/python3.10/dist-packages (from yarl<2.0,>=1.12.0->aiohttp->datasets>=2.0.0->evaluate) (0.2.0)\n",
            "Downloading evaluate-0.4.3-py3-none-any.whl (84 kB)\n",
            "\u001b[2K   \u001b[90m━━━━━━━━━━━━━━━━━━━━━━━━━━━━━━━━━━━━━━━━\u001b[0m \u001b[32m84.0/84.0 kB\u001b[0m \u001b[31m4.3 MB/s\u001b[0m eta \u001b[36m0:00:00\u001b[0m\n",
            "\u001b[?25hDownloading datasets-3.1.0-py3-none-any.whl (480 kB)\n",
            "\u001b[2K   \u001b[90m━━━━━━━━━━━━━━━━━━━━━━━━━━━━━━━━━━━━━━━━\u001b[0m \u001b[32m480.6/480.6 kB\u001b[0m \u001b[31m21.7 MB/s\u001b[0m eta \u001b[36m0:00:00\u001b[0m\n",
            "\u001b[?25hDownloading dill-0.3.8-py3-none-any.whl (116 kB)\n",
            "\u001b[2K   \u001b[90m━━━━━━━━━━━━━━━━━━━━━━━━━━━━━━━━━━━━━━━━\u001b[0m \u001b[32m116.3/116.3 kB\u001b[0m \u001b[31m6.5 MB/s\u001b[0m eta \u001b[36m0:00:00\u001b[0m\n",
            "\u001b[?25hDownloading fsspec-2024.9.0-py3-none-any.whl (179 kB)\n",
            "\u001b[2K   \u001b[90m━━━━━━━━━━━━━━━━━━━━━━━━━━━━━━━━━━━━━━━━\u001b[0m \u001b[32m179.3/179.3 kB\u001b[0m \u001b[31m11.4 MB/s\u001b[0m eta \u001b[36m0:00:00\u001b[0m\n",
            "\u001b[?25hDownloading multiprocess-0.70.16-py310-none-any.whl (134 kB)\n",
            "\u001b[2K   \u001b[90m━━━━━━━━━━━━━━━━━━━━━━━━━━━━━━━━━━━━━━━━\u001b[0m \u001b[32m134.8/134.8 kB\u001b[0m \u001b[31m9.3 MB/s\u001b[0m eta \u001b[36m0:00:00\u001b[0m\n",
            "\u001b[?25hDownloading xxhash-3.5.0-cp310-cp310-manylinux_2_17_x86_64.manylinux2014_x86_64.whl (194 kB)\n",
            "\u001b[2K   \u001b[90m━━━━━━━━━━━━━━━━━━━━━━━━━━━━━━━━━━━━━━━━\u001b[0m \u001b[32m194.1/194.1 kB\u001b[0m \u001b[31m7.7 MB/s\u001b[0m eta \u001b[36m0:00:00\u001b[0m\n",
            "\u001b[?25hInstalling collected packages: xxhash, fsspec, dill, multiprocess, datasets, evaluate\n",
            "  Attempting uninstall: fsspec\n",
            "    Found existing installation: fsspec 2024.10.0\n",
            "    Uninstalling fsspec-2024.10.0:\n",
            "      Successfully uninstalled fsspec-2024.10.0\n",
            "\u001b[31mERROR: pip's dependency resolver does not currently take into account all the packages that are installed. This behaviour is the source of the following dependency conflicts.\n",
            "gcsfs 2024.10.0 requires fsspec==2024.10.0, but you have fsspec 2024.9.0 which is incompatible.\u001b[0m\u001b[31m\n",
            "\u001b[0mSuccessfully installed datasets-3.1.0 dill-0.3.8 evaluate-0.4.3 fsspec-2024.9.0 multiprocess-0.70.16 xxhash-3.5.0\n"
          ]
        }
      ]
    },
    {
      "cell_type": "code",
      "execution_count": null,
      "metadata": {
        "id": "jV5eaUW3o084"
      },
      "outputs": [],
      "source": [
        "import csv\n",
        "import numpy as np\n",
        "import random\n",
        "from transformers import AutoModelForCausalLM, AutoTokenizer\n",
        "import evaluate"
      ]
    },
    {
      "cell_type": "code",
      "source": [
        "codeLines = []\n",
        "with open('/data.csv', newline='', encoding='utf-8') as csvfile:\n",
        "    reader = csv.reader(csvfile)\n",
        "    for row in reader:\n",
        "        codeLines.append(row)\n",
        "codeLines = np.array(codeLines, dtype=np.str_)\n",
        "codeLines[0:5]"
      ],
      "metadata": {
        "colab": {
          "base_uri": "https://localhost:8080/"
        },
        "id": "NYM30DfkpKfD",
        "outputId": "611cd538-a405-449d-acd7-000ff4c78572"
      },
      "execution_count": null,
      "outputs": [
        {
          "output_type": "execute_result",
          "data": {
            "text/plain": [
              "array([['case IntelIntDir(d) => \\\\int %d\\\\\" format d\"'],\n",
              "       ['case IntelAscizDir(s) => \\\\asciz \\\\\\\\\\\\\"%s\\\\\\\\\\\\\"\\\\\" format escapeChars(s)\"'],\n",
              "       ['case IntelSyntaxDir(s) => \\\\intel_syntax %s\\\\\" format s\"'],\n",
              "       ['case IntelTextDir => \\\\text\\\\\"\"'],\n",
              "       ['private def coreEightFormat(s: String, end: String)(implicit size: IntelSize): String =']],\n",
              "      dtype='<U87')"
            ]
          },
          "metadata": {},
          "execution_count": 7
        }
      ]
    },
    {
      "cell_type": "code",
      "source": [
        "# Split line into prefix, middle, and suffix\n",
        "def split_code(line):\n",
        "    cursor_position = random.randint(0, len(line) - 5)\n",
        "    prefix = line[:cursor_position]\n",
        "\n",
        "    middle_end = random.randint(cursor_position + 5, len(line))\n",
        "    middle = line[cursor_position:middle_end]\n",
        "\n",
        "    suffix = line[middle_end:]\n",
        "\n",
        "    return prefix, middle, suffix"
      ],
      "metadata": {
        "id": "4p0uMe5sqMtv"
      },
      "execution_count": null,
      "outputs": []
    },
    {
      "cell_type": "code",
      "source": [
        "DATA_LEN = 30\n",
        "\n",
        "data = []\n",
        "for _ in range(DATA_LEN):\n",
        "    line = random.choice(codeLines)  # Randomly choose a line\n",
        "    prefix, middle, suffix = split_code(line[0])\n",
        "    data.append((prefix, middle, suffix))\n",
        "\n",
        "print(len(data))\n",
        "data[0:5]"
      ],
      "metadata": {
        "colab": {
          "base_uri": "https://localhost:8080/"
        },
        "id": "3nxbVgQFqRAP",
        "outputId": "c0448a2b-ae33-4b54-86de-38f8d265814e"
      },
      "execution_count": null,
      "outputs": [
        {
          "output_type": "stream",
          "name": "stdout",
          "text": [
            "30\n"
          ]
        },
        {
          "output_type": "execute_result",
          "data": {
            "text/plain": [
              "[('def allocate(tmpReg: Register): IntelAdd', 'r = {', ''),\n",
              " ('cas', 'e IdentReg(id, t) =>', ' identPrefix'),\n",
              " ('', 'case _ => \\\\\\\\\"\"', ''),\n",
              " ('case (id, ', 's) =>', ''),\n",
              " ('priv',\n",
              "  'ate def genFuncArgsPushPopList',\n",
              "  '(args: Int): List[IntelRegister] =')]"
            ]
          },
          "metadata": {},
          "execution_count": 40
        }
      ]
    },
    {
      "cell_type": "code",
      "source": [
        "checkpoint = \"bigcode/tiny_starcoder_py\"\n",
        "device = \"cpu\"\n",
        "\n",
        "tokenizer = AutoTokenizer.from_pretrained(checkpoint)\n",
        "model = AutoModelForCausalLM.from_pretrained(checkpoint).to(device)\n",
        "outputs = []\n",
        "\n",
        "for pref, _, suf in data:\n",
        "  input_text = f\"<fim_prefix>{pref}<fim_suffix>{suf}<fim_middle>\"\n",
        "  inputs = tokenizer.encode(input_text, return_tensors=\"pt\").to(device)\n",
        "  output = tokenizer.decode(model.generate(inputs, pad_token_id=0, max_new_tokens=30)[0])\n",
        "  middle = output.split(\"<fim_middle>\")[1]\n",
        "  outputs.append(middle)\n",
        "\n",
        "print(len(outputs))\n"
      ],
      "metadata": {
        "colab": {
          "base_uri": "https://localhost:8080/"
        },
        "id": "KOlEeEUBqVM8",
        "outputId": "b7114870-7465-4ae9-e294-30642ef973e1"
      },
      "execution_count": null,
      "outputs": [
        {
          "output_type": "stream",
          "name": "stdout",
          "text": [
            "30\n"
          ]
        }
      ]
    },
    {
      "cell_type": "code",
      "source": [
        "outputs = list(map(lambda s: s.replace(\"<|endoftext|>\", \"\").rstrip('\\n'), outputs))\n",
        "\n",
        "for i in range(DATA_LEN):\n",
        "  pref, mid, suf = data[i]\n",
        "  print(f\">>> Prefix {i}:\")\n",
        "  print(pref)\n",
        "  print(f\"### Prediction {i}:\")\n",
        "  print(outputs[i])\n",
        "  print(f'### Actual {i}:')\n",
        "  print(mid)\n",
        "  print(f\">>> Sufix {i}:\")\n",
        "  print(suf)\n",
        "  print(\"##############\")\n",
        "  print(\"##############\")"
      ],
      "metadata": {
        "colab": {
          "base_uri": "https://localhost:8080/"
        },
        "id": "6FUii4u_vMqo",
        "outputId": "eb3f3b24-f40f-4e93-9266-036d180e6666"
      },
      "execution_count": null,
      "outputs": [
        {
          "output_type": "stream",
          "name": "stdout",
          "text": [
            ">>> Prefix 0:\n",
            "def allocate(tmpReg: Register): IntelAdd\n",
            "### Prediction 0:\n",
            "er(tmpReg)\n",
            "### Actual 0:\n",
            "r = {\n",
            ">>> Sufix 0:\n",
            "\n",
            "##############\n",
            "##############\n",
            ">>> Prefix 1:\n",
            "cas\n",
            "### Prediction 1:\n",
            "k_prefix(self,\n",
            "### Actual 1:\n",
            "e IdentReg(id, t) =>\n",
            ">>> Sufix 1:\n",
            " identPrefix\n",
            "##############\n",
            "##############\n",
            ">>> Prefix 2:\n",
            "\n",
            "### Prediction 2:\n",
            "\n",
            "### Actual 2:\n",
            "case _ => \\\\\"\"\n",
            ">>> Sufix 2:\n",
            "\n",
            "##############\n",
            "##############\n",
            ">>> Prefix 3:\n",
            "case (id, \n",
            "### Prediction 3:\n",
            "id, 1)\n",
            "### Actual 3:\n",
            "s) =>\n",
            ">>> Sufix 3:\n",
            "\n",
            "##############\n",
            "##############\n",
            ">>> Prefix 4:\n",
            "priv\n",
            "### Prediction 4:\n",
            "er\n",
            "### Actual 4:\n",
            "ate def genFuncArgsPushPopList\n",
            ">>> Sufix 4:\n",
            "(args: Int): List[IntelRegister] =\n",
            "##############\n",
            "##############\n",
            ">>> Prefix 5:\n",
            "private val callee: List[IntelRegister] = List(R\n",
            "### Prediction 5:\n",
            "egister(R15, R15.R15, R15.R15, R15.R15\n",
            "### Actual 5:\n",
            "12, R13, R14, \n",
            ">>> Sufix 5:\n",
            "R15)\n",
            "##############\n",
            "##############\n",
            ">>> Prefix 6:\n",
            "case IntelRet => \n",
            "### Prediction 6:\n",
            "\" + str(ret))\n",
            "        print(\"Case IntelRet => 0\")\n",
            "        print(\"Case IntelRet => 1\")\n",
            "        print(\"Case\n",
            "### Actual 6:\n",
            "tab + \\re\n",
            ">>> Sufix 6:\n",
            "t\\\"\"\n",
            "##############\n",
            "##############\n",
            ">>> Prefix 7:\n",
            "private v\n",
            "### Prediction 7:\n",
            "alue. \n",
            "### Actual 7:\n",
            "ar isIndented = \n",
            ">>> Sufix 7:\n",
            "false\n",
            "##############\n",
            "##############\n",
            ">>> Prefix 8:\n",
            "case IntelLabel(s) => isIndented = true; s + \n",
            "### Prediction 8:\n",
            "+ 1; s = 0; s = 1; s = 2; s = 3; s = 4; s\n",
            "### Actual 8:\n",
            "\\:\\\"\"\n",
            ">>> Sufix 8:\n",
            "\n",
            "##############\n",
            "##############\n",
            ">>> Prefix 9:\n",
            "val listFuncArgs = List(RDI, R\n",
            "### Prediction 9:\n",
            "DX, R\n",
            "### Actual 9:\n",
            "SI, R\n",
            ">>> Sufix 9:\n",
            "DX, RCX, R8, R9)\n",
            "##############\n",
            "##############\n",
            ">>> Prefix 10:\n",
            "private def formatDirective(d\n",
            "### Prediction 10:\n",
            "irector, format, context):\n",
            "    return format.format(context)\n",
            "\n",
            "def formatDirective(directive, context):\n",
            "    return directive.format\n",
            "### Actual 10:\n",
            "ir: IntelDirecti\n",
            ">>> Sufix 10:\n",
            "ve): String = {\n",
            "##############\n",
            "##############\n",
            ">>> Prefix 11:\n",
            "case IntelIntDir(d) => \\int %d\\\" f\n",
            "### Prediction 11:\n",
            "unction\" % d.name)\n",
            "        return d\n",
            "\n",
            "    def _get_case_dir(self, d):\n",
            "        return d.case_dir\n",
            "### Actual 11:\n",
            "ormat \n",
            ">>> Sufix 11:\n",
            "d\"\n",
            "##############\n",
            "##############\n",
            ">>> Prefix 12:\n",
            "getOffsetSize()\n",
            "### Prediction 12:\n",
            ")\n",
            "        return \n",
            "### Actual 12:\n",
            ": Int = \n",
            ">>> Sufix 12:\n",
            "currOffset.abs\n",
            "##############\n",
            "##############\n",
            ">>> Prefix 13:\n",
            "writer.write\n",
            "### Prediction 13:\n",
            "()\n",
            "\n",
            "wri\n",
            "### Actual 13:\n",
            "(c matc\n",
            ">>> Sufix 13:\n",
            "h {\n",
            "##############\n",
            "##############\n",
            ">>> Prefix 14:\n",
            "case IntelGloblDir(\n",
            "### Prediction 14:\n",
            "self, path):\n",
            "        return self.getOperandFormat(path)\n",
            "\n",
            "    def getOperandFormat(self, path):\n",
            "        if path.startswith(\"\n",
            "### Actual 14:\n",
            "s) => \\globl %s\\\" for\n",
            ">>> Sufix 14:\n",
            "mat getOperandFormat(s)\"\n",
            "##############\n",
            "##############\n",
            ">>> Prefix 15:\n",
            "private val \n",
            "### Prediction 15:\n",
            "ue 0x00000000000000000000000000\n",
            "### Actual 15:\n",
            "mapToRegister: HashMa\n",
            ">>> Sufix 15:\n",
            "p[String, IntelRegister] = HashMap.empty\n",
            "##############\n",
            "##############\n",
            ">>> Prefix 16:\n",
            "def genShortList(): List[Intel\n",
            "### Prediction 16:\n",
            "nite]\n",
            "### Actual 16:\n",
            "Register]\n",
            ">>> Sufix 16:\n",
            " = shortList\n",
            "##############\n",
            "##############\n",
            ">>> Prefix 17:\n",
            "case \n",
            "### Prediction 17:\n",
            "of the current directory.\n",
            "\n",
            "# 1. Create a directory called \"test\" in the current directory.\n",
            "# 2. Create a\n",
            "### Actual 17:\n",
            "IntelTex\n",
            ">>> Sufix 17:\n",
            "tDir => \\text\\\"\"\n",
            "##############\n",
            "##############\n",
            ">>> Prefix 18:\n",
            "private var \n",
            "### Prediction 18:\n",
            "to be used in the function.\n",
            "\n",
            "# In[1]:\n",
            "\n",
            "\n",
            "def test_private_var_to_false():\n",
            "    assert false\n",
            "### Actual 18:\n",
            "isIndented\n",
            ">>> Sufix 18:\n",
            " = false\n",
            "##############\n",
            "##############\n",
            ">>> Prefix 19:\n",
            "private def genRSPDeRef\n",
            "### Prediction 19:\n",
            "f(self, rspReff):\n",
            "        return rspReff.genRSPDeReff(self.rspReff)\n",
            "### Actual 19:\n",
            "(offset: Int): IntelWordPtr = IntelWordP\n",
            ">>> Sufix 19:\n",
            "tr(\n",
            "##############\n",
            "##############\n",
            ">>> Prefix 20:\n",
            "private va\n",
            "### Prediction 20:\n",
            "lid\n",
            "### Actual 20:\n",
            "l tab\n",
            ">>> Sufix 20:\n",
            " = \\ \\\"\"\n",
            "##############\n",
            "##############\n",
            ">>> Prefix 21:\n",
            "IntelWordPtr\n",
            "### Prediction 21:\n",
            "(qwordSize * offset))\n",
            "        return IntelWordPtr(qwordSize * offset)\n",
            "\n",
            "    def get_word_size(self, q\n",
            "### Actual 21:\n",
            "(IntelDe\n",
            ">>> Sufix 21:\n",
            "refReg1(RSP, IntelImmInt(qwordSize * offset)))\n",
            "##############\n",
            "##############\n",
            ">>> Prefix 22:\n",
            "private var currOffset: \n",
            "### Prediction 22:\n",
            "int = 0;\n",
            "        currOffset = currOffset + 1;\n",
            "        if (currOffset < 0) {\n",
            "            return;\n",
            "        }\n",
            "### Actual 22:\n",
            "Int =\n",
            ">>> Sufix 22:\n",
            " 0\n",
            "##############\n",
            "##############\n",
            ">>> Prefix 23:\n",
            "cas\n",
            "### Prediction 23:\n",
            "k_dir(self):\n",
            "        return self.\n",
            "### Actual 23:\n",
            "e Intel\n",
            ">>> Sufix 23:\n",
            "TextDir => \\text\\\"\"\n",
            "##############\n",
            "##############\n",
            ">>> Prefix 24:\n",
            "case IntelGlobl\n",
            "### Prediction 24:\n",
            "e \n",
            "### Actual 24:\n",
            "Dir(s) => \\\n",
            ">>> Sufix 24:\n",
            "globl %s\\\" format getOperandFormat(s)\"\n",
            "##############\n",
            "##############\n",
            ">>> Prefix 25:\n",
            "getOffsetSize(): Int =\n",
            "### Prediction 25:\n",
            " 0\n",
            "    for i in range(0, 1000000):\n",
            "        if i % 100000\n",
            "### Actual 25:\n",
            " currOf\n",
            ">>> Sufix 25:\n",
            "fset.abs\n",
            "##############\n",
            "##############\n",
            ">>> Prefix 26:\n",
            "genFuncArgsList(size: Int): List[IntelAd\n",
            "### Prediction 26:\n",
            "lFuncArgs] = []\n",
            "    for i in range(size):\n",
            "        genFuncArgsList.append(IntelAdlFuncArgs(i))\n",
            "### Actual 26:\n",
            "dr] = {\n",
            ">>> Sufix 26:\n",
            "\n",
            "##############\n",
            "##############\n",
            ">>> Prefix 27:\n",
            "private def genRSPDeRef(of\n",
            "### Prediction 27:\n",
            "f, of):\n",
            "        return of.genRSPDeRef(of.getRSPDeRef(of.getRSPDeRef(\n",
            "### Actual 27:\n",
            "fset: Int): IntelWordPtr = IntelWordPtr(\n",
            ">>> Sufix 27:\n",
            "\n",
            "##############\n",
            "##############\n",
            ">>> Prefix 28:\n",
            "private val mapToRegister: HashMap\n",
            "### Prediction 28:\n",
            "[\n",
            "### Actual 28:\n",
            "[String,\n",
            ">>> Sufix 28:\n",
            " IntelRegister] = HashMap.empty\n",
            "##############\n",
            "##############\n",
            ">>> Prefix 29:\n",
            "val listFuncAr\n",
            "### Prediction 29:\n",
            "g = [1, 2, 3, 4, 5, 6, 7, 8, 9, \n",
            "### Actual 29:\n",
            "gs = List(RDI, RSI, RDX, RCX, R8,\n",
            ">>> Sufix 29:\n",
            " R9)\n",
            "##############\n",
            "##############\n"
          ]
        }
      ]
    },
    {
      "cell_type": "code",
      "source": [
        "exact_match = 0\n",
        "\n",
        "for (pref, mid, suf), output in zip(data, outputs):\n",
        "  if mid == output:\n",
        "    exact_match += 1\n",
        "\n",
        "print(exact_match / DATA_LEN)"
      ],
      "metadata": {
        "colab": {
          "base_uri": "https://localhost:8080/"
        },
        "id": "gXWkNJH_1w_n",
        "outputId": "8c62325e-d8c9-421c-8785-ee1d2a201b07"
      },
      "execution_count": null,
      "outputs": [
        {
          "output_type": "stream",
          "name": "stdout",
          "text": [
            "0.0\n"
          ]
        }
      ]
    },
    {
      "cell_type": "code",
      "source": [
        "# Chrf\n",
        "actual_middles = [mid for _, mid, _ in data]\n",
        "chrf = evaluate.load(\"chrf\")\n",
        "results = chrf.compute(predictions=outputs, references=actual_middles)\n",
        "print(results)"
      ],
      "metadata": {
        "colab": {
          "base_uri": "https://localhost:8080/"
        },
        "id": "Sp4MxwnO2OVs",
        "outputId": "50e68e6a-169e-4379-b157-2cdae2a708c4"
      },
      "execution_count": null,
      "outputs": [
        {
          "output_type": "stream",
          "name": "stdout",
          "text": [
            "{'score': 7.519379257344762, 'char_order': 6, 'word_order': 0, 'beta': 2}\n"
          ]
        }
      ]
    },
    {
      "cell_type": "code",
      "source": [
        "# Bleu\n",
        "bleu = evaluate.load(\"sacrebleu\")\n",
        "results = bleu.compute(predictions=outputs, references=actual_middles)\n",
        "print(results)\n",
        "\n",
        "\n",
        "# Rouge\n",
        "rouge = evaluate.load(\"rouge\")\n",
        "results = rouge.compute(predictions=outputs, references=actual_middles)\n",
        "print(results)"
      ],
      "metadata": {
        "colab": {
          "base_uri": "https://localhost:8080/"
        },
        "id": "fR7hyVhw5TMK",
        "outputId": "7d261483-1557-4cc9-97fa-c3ccc56ad05b"
      },
      "execution_count": null,
      "outputs": [
        {
          "output_type": "stream",
          "name": "stdout",
          "text": [
            "{'score': 0.5846970281118166, 'counts': [31, 4, 0, 0], 'totals': [380, 351, 326, 305], 'precisions': [8.157894736842104, 1.1396011396011396, 0.15337423312883436, 0.08196721311475409], 'bp': 1.0, 'sys_len': 380, 'ref_len': 131}\n",
            "{'rouge1': 0.02333333333333333, 'rouge2': 0.0, 'rougeL': 0.02, 'rougeLsum': 0.02333333333333333}\n"
          ]
        }
      ]
    }
  ]
}